{
 "cells": [
  {
   "cell_type": "code",
   "execution_count": 1,
   "metadata": {},
   "outputs": [
    {
     "name": "stdout",
     "output_type": "stream",
     "text": [
      "['banana', 'orange', 'apple']\n"
     ]
    }
   ],
   "source": [
    "# Define the original list and the order list\n",
    "original_list = ['apple', 'banana', 'orange']\n",
    "order_list = ['banana', 'orange', 'apple']\n",
    "\n",
    "# Create a dictionary to map elements to their order\n",
    "order_dict = {element: index for index, element in enumerate(order_list)}\n",
    "\n",
    "# Sort the original list based on the order specified in the order list\n",
    "sorted_list = sorted(original_list, key=lambda x: order_dict[x])\n",
    "\n",
    "print(sorted_list)\n"
   ]
  },
  {
   "cell_type": "code",
   "execution_count": 2,
   "metadata": {},
   "outputs": [],
   "source": [
    "import numpy as np"
   ]
  },
  {
   "cell_type": "code",
   "execution_count": 6,
   "metadata": {},
   "outputs": [
    {
     "ename": "TypeError",
     "evalue": "unhashable type: 'numpy.ndarray'",
     "output_type": "error",
     "traceback": [
      "\u001b[1;31m---------------------------------------------------------------------------\u001b[0m",
      "\u001b[1;31mTypeError\u001b[0m                                 Traceback (most recent call last)",
      "Cell \u001b[1;32mIn[6], line 4\u001b[0m\n\u001b[0;32m      2\u001b[0m order_list \u001b[38;5;241m=\u001b[39m [\u001b[38;5;241m88\u001b[39m,\u001b[38;5;241m12\u001b[39m,\u001b[38;5;241m89\u001b[39m]\n\u001b[0;32m      3\u001b[0m order_dict \u001b[38;5;241m=\u001b[39m {element: index \u001b[38;5;28;01mfor\u001b[39;00m index, element \u001b[38;5;129;01min\u001b[39;00m \u001b[38;5;28menumerate\u001b[39m(order_list)}\n\u001b[1;32m----> 4\u001b[0m sorted_list \u001b[38;5;241m=\u001b[39m \u001b[38;5;28;43msorted\u001b[39;49m\u001b[43m(\u001b[49m\u001b[43moriginal_list\u001b[49m\u001b[43m,\u001b[49m\u001b[43m \u001b[49m\u001b[43mkey\u001b[49m\u001b[38;5;241;43m=\u001b[39;49m\u001b[38;5;28;43;01mlambda\u001b[39;49;00m\u001b[43m \u001b[49m\u001b[43mx\u001b[49m\u001b[43m:\u001b[49m\u001b[43m \u001b[49m\u001b[43morder_dict\u001b[49m\u001b[43m[\u001b[49m\u001b[43mx\u001b[49m\u001b[43m]\u001b[49m\u001b[43m)\u001b[49m\n",
      "Cell \u001b[1;32mIn[6], line 4\u001b[0m, in \u001b[0;36m<lambda>\u001b[1;34m(x)\u001b[0m\n\u001b[0;32m      2\u001b[0m order_list \u001b[38;5;241m=\u001b[39m [\u001b[38;5;241m88\u001b[39m,\u001b[38;5;241m12\u001b[39m,\u001b[38;5;241m89\u001b[39m]\n\u001b[0;32m      3\u001b[0m order_dict \u001b[38;5;241m=\u001b[39m {element: index \u001b[38;5;28;01mfor\u001b[39;00m index, element \u001b[38;5;129;01min\u001b[39;00m \u001b[38;5;28menumerate\u001b[39m(order_list)}\n\u001b[1;32m----> 4\u001b[0m sorted_list \u001b[38;5;241m=\u001b[39m \u001b[38;5;28msorted\u001b[39m(original_list, key\u001b[38;5;241m=\u001b[39m\u001b[38;5;28;01mlambda\u001b[39;00m x: \u001b[43morder_dict\u001b[49m\u001b[43m[\u001b[49m\u001b[43mx\u001b[49m\u001b[43m]\u001b[49m)\n",
      "\u001b[1;31mTypeError\u001b[0m: unhashable type: 'numpy.ndarray'"
     ]
    }
   ],
   "source": [
    "original_list = [np.zeros((10, 10)), np.zeros((3,3)), np.zeros((5,5))]\n",
    "order_list = [88,12,89]\n",
    "order_dict = {element: index for index, element in enumerate(order_list)}\n",
    "sorted_list = sorted(original_list, key=lambda x: order_dict[x])\n"
   ]
  },
  {
   "cell_type": "code",
   "execution_count": 28,
   "metadata": {},
   "outputs": [
    {
     "name": "stdout",
     "output_type": "stream",
     "text": [
      "hi\n"
     ]
    }
   ],
   "source": [
    "rotation_vectors, translation_vectors = [[[     2.6174,    -0.29358,      1.9073]]],[[[   -0.44209,    -0.10324,     0.62667]]]\n",
    "ids = [[88]]\n",
    "\n",
    "default_ids = [12, 88, 89]\n",
    "does_not_exist = []\n",
    "\n",
    "for idx, id in enumerate(ids):\n",
    "    match np.array(id):\n",
    "        case 12:\n",
    "            tvec_12 = translation_vectors[idx][0]\n",
    "            rvec_12 = rotation_vectors[idx][0]\n",
    "        case 88:\n",
    "            tvec_88 = translation_vectors[idx][0]\n",
    "            rvec_88 = rotation_vectors[idx][0]\n",
    "        case 89:\n",
    "            tvec_89 = translation_vectors[idx][0]\n",
    "            rvec_89 = rotation_vectors[idx][0]\n",
    "            \n",
    "_ids = np.array(ids)\n",
    "if default_ids[0] not in _ids:\n",
    "    does_not_exist.append(default_ids[0])\n",
    "if default_ids[1] not in _ids:\n",
    "    does_not_exist.append(default_ids[1])\n",
    "if default_ids[2] not in _ids:\n",
    "    does_not_exist.append(default_ids[2])\n",
    "    \n",
    "for _d in does_not_exist:\n",
    "    match np.array(_d):\n",
    "        case 12:\n",
    "            tvec_12 = np.nan\n",
    "            rvec_12 = np.nan\n",
    "        case 88:\n",
    "            tvec_88 = np.nan\n",
    "            rvec_88 = np.nan\n",
    "        case 89:\n",
    "            tvec_89 = np.nan\n",
    "            rvec_89 = np.nan"
   ]
  },
  {
   "cell_type": "code",
   "execution_count": 29,
   "metadata": {},
   "outputs": [
    {
     "name": "stdout",
     "output_type": "stream",
     "text": [
      "[-0.44209, -0.10324, 0.62667]\n"
     ]
    }
   ],
   "source": [
    "print(tvec_88)"
   ]
  },
  {
   "cell_type": "code",
   "execution_count": null,
   "metadata": {},
   "outputs": [],
   "source": []
  }
 ],
 "metadata": {
  "kernelspec": {
   "display_name": "Python 3",
   "language": "python",
   "name": "python3"
  },
  "language_info": {
   "codemirror_mode": {
    "name": "ipython",
    "version": 3
   },
   "file_extension": ".py",
   "mimetype": "text/x-python",
   "name": "python",
   "nbconvert_exporter": "python",
   "pygments_lexer": "ipython3",
   "version": "3.11.7"
  }
 },
 "nbformat": 4,
 "nbformat_minor": 2
}
